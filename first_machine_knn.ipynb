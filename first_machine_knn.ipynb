{
  "nbformat": 4,
  "nbformat_minor": 0,
  "metadata": {
    "colab": {
      "name": "first_machine_knn.ipynb",
      "provenance": [],
      "collapsed_sections": [],
      "authorship_tag": "ABX9TyP7Ixcn7vUhDVlAdunrevL5",
      "include_colab_link": true
    },
    "kernelspec": {
      "name": "python3",
      "display_name": "Python 3"
    },
    "language_info": {
      "name": "python"
    }
  },
  "cells": [
    {
      "cell_type": "markdown",
      "metadata": {
        "id": "view-in-github",
        "colab_type": "text"
      },
      "source": [
        "<a href=\"https://colab.research.google.com/github/drawcodeboy/study_py_packages/blob/main/first_machine_knn.ipynb\" target=\"_parent\"><img src=\"https://colab.research.google.com/assets/colab-badge.svg\" alt=\"Open In Colab\"/></a>"
      ]
    },
    {
      "cell_type": "code",
      "source": [
        "# 전통적인 프로그램\n",
        "# 규칙을 정하여 분류하는 프로그램을 만듬\n",
        "if fist_length >= 30:\n",
        "  print(\"도미\")"
      ],
      "metadata": {
        "id": "1NOO26l9EQ6a"
      },
      "execution_count": null,
      "outputs": []
    },
    {
      "cell_type": "code",
      "source": [
        "# 미리 규칙을 정하기 어렵다면?\n",
        "# 프로그램을 통하여 스스로 규칙을 정하게 하는 것 => 머신러닝 사용\n",
        "# 규칙을 어떻게 찾는가? => 데이터에서 훈련 또는 학습을 통해서"
      ],
      "metadata": {
        "id": "oOEAzng1EkY-"
      },
      "execution_count": null,
      "outputs": []
    },
    {
      "cell_type": "code",
      "source": [
        "# 도미 vs 빙어를 분류하는 프로그램\n",
        "\n",
        "# 알아야 하는 용어\n",
        "# Class\n",
        "# 분류 Classification\n",
        "# 이진 분류 Binary Classification, 두 개로 분류"
      ],
      "metadata": {
        "id": "rTgb-sZfFJtW"
      },
      "execution_count": null,
      "outputs": []
    },
    {
      "cell_type": "code",
      "execution_count": 7,
      "metadata": {
        "colab": {
          "base_uri": "https://localhost:8080/",
          "height": 560
        },
        "id": "ZCVtRIQwujLY",
        "outputId": "5349f201-0889-4557-d500-adbf86c70f92"
      },
      "outputs": [
        {
          "output_type": "display_data",
          "data": {
            "text/plain": [
              "<Figure size 432x288 with 1 Axes>"
            ],
            "image/png": "[encoded data removed]"
          },
          "metadata": {
            "needs_background": "light"
          }
        },
        {
          "output_type": "display_data",
          "data": {
            "text/plain": [
              "<Figure size 432x288 with 1 Axes>"
            ],
            "image/png": "[encoded data removed]"
          },
          "metadata": {
            "needs_background": "light"
          }
        },
        {
          "output_type": "execute_result",
          "data": {
            "text/plain": [
              "array([1])"
            ]
          },
          "metadata": {},
          "execution_count": 7
        }
      ],
      "source": [
        "# [All Shell]\n",
        "# ------------------------------------------------------------\n",
        "\n",
        "# 도미 데이터\n",
        "\n",
        "bream_length = [25.4, 26.3, 26.5, 29.0, 29.7, 29.7, 30.0, 30.0, 30.7, 31.0, \n",
        "                31.0, 31.5, 32.0, 32.0, 32.0, 33.0, 33.0, 33.0, 33.5, 33.5,\n",
        "                34.0, 34.0, 34.5, 35.0, 35.0, 35.0, 35.0, 36.0, 36.0, 37.0,\n",
        "                38.5, 38.5, 39.5, 41.0, 41.0]\n",
        "\n",
        "bream_weight = [242.0, 290.0, 340.0, 363.0, 430.0, 450.0, 500.0, 390.0,\n",
        "                450.0, 500.0, 475.0, 500.0, 500.0, 340.0, 600.0, 600.0,\n",
        "                700.0, 700.0, 610.0, 650.0, 575.0, 685.0, 620.0, 680.0,\n",
        "                700.0, 725.0, 720.0, 714.0, 850.0, 1000.0, 920.0, 955.0,\n",
        "                925.0, 975.0, 950.0]\n",
        "\n",
        "# 샘플: 각각의 데이터를 머신러닝에서는 Sample이라한다.\n",
        "# 특성: 각 Sample의 (length, weight)같은 것을 Sample의 특성이라한다.\n",
        "\n",
        "# ------------------------------------------------------------\n",
        "\n",
        "# 데이터를 시각화 해보자 (도미 데이터)\n",
        "\n",
        "import matplotlib.pyplot as plt\n",
        "\n",
        "# 산점도, Scatter Plot\n",
        "\n",
        "plt.scatter(bream_length, bream_weight)\n",
        "plt.xlabel('length')\n",
        "plt.ylabel('weight')\n",
        "plt.show()\n",
        "\n",
        "# -------------------------------------------------------------\n",
        "\n",
        "# 빙어 데이터\n",
        "\n",
        "smelt_length = [9.8, 10.5, 10.6, 11.0, 11.2, 11.3, 11.8, 11.8, 12.0, 12.2,\n",
        "                12.4, 13.0, 14.3, 15.0]\n",
        "smelt_weight = [6.7, 7.5, 7.0, 9.7, 9.8, 8.7, 10.0, 9.9, 9.8, 12.2, 13.4,\n",
        "                12.2, 19.7, 19.9]\n",
        "\n",
        "# scatter를 두 번 호출하면 두 개의 산점도가 그려지는 것이 아닌\n",
        "# 하나의 산점도에 두 개의 데이터가 들어간다.\n",
        "\n",
        "plt.scatter(bream_length, bream_weight)\n",
        "plt.scatter(smelt_length, smelt_weight)\n",
        "plt.xlabel('length')\n",
        "plt.ylabel('weight')\n",
        "plt.show()\n",
        "\n",
        "# -------------------------------------------------------------\n",
        "\n",
        "# 도미와 빙어 합치기\n",
        "\n",
        "length = bream_length + smelt_length # list에 대한 덧셈 연산자 오버로딩 사용\n",
        "weight = bream_weight + smelt_weight\n",
        "\n",
        "# 샘플 하나의 데이터가 하나의 리스트로 담기도록 변환해야 함 -> 사이킷런에서 기대하는 데이터의 형태\n",
        "\n",
        "# -------------------------------------------------------------\n",
        "\n",
        "# 리스트 내포\n",
        "fish_data = [[l, w] for l, w in zip(length, weight)] # zip, 데이터를 묶어내는 함수\n",
        "\n",
        "# -------------------------------------------------------------\n",
        "\n",
        "# 정답 준비\n",
        "\n",
        "fish_target = [1] * 35 + [0] * 14 # 연산자 오버로딩 사용\n",
        "# 이러한 방식을 지도학습이라고 한다. (Supervised Learning)\n",
        "\n",
        "# -------------------------------------------------------------\n",
        "\n",
        "# K-최근접 이웃\n",
        "\n",
        "from sklearn.neighbors import KNeighborsClassifier\n",
        "\n",
        "kn = KNeighborsClassifier()\n",
        "\n",
        "# 모델, fit = 훈련\n",
        "# fish_data와 fish_target을 사용해서 모델을 fit(훈련)시킨다.\n",
        "kn.fit(fish_data, fish_target)\n",
        "\n",
        "# 얼마나 잘 학습되었는가? score 메서드 사용\n",
        "# 1.0 => 100% 다 맞추었다. (Accuracy = 100%)\n",
        "kn.score(fish_data, fish_target)\n",
        "\n",
        "# -------------------------------------------------------------\n",
        "\n",
        "# 새로운 생선 예측\n",
        "\n",
        "kn.predict([[30, 600]]) # fit이 2차원으로 되었기 때문에 2차원으로 넣어준다.\n",
        "# array([1])을 출력함, 1은 fit시킬 때, 1이 도미로 두었던 것을 기억하면\n",
        "# 예측이 잘 되고 있다는 소리다.\n"
      ]
    }
  ]
}